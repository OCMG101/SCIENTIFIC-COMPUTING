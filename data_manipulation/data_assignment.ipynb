{
 "cells": [
  {
   "metadata": {},
   "cell_type": "markdown",
   "source": "# DATA MANIPULATION - ASSIGNMENT",
   "id": "53eb3001d2193525"
  },
  {
   "metadata": {
    "ExecuteTime": {
     "end_time": "2025-03-11T20:39:40.023802Z",
     "start_time": "2025-03-11T20:39:40.019256Z"
    }
   },
   "cell_type": "code",
   "source": "import pandas as pd",
   "id": "ab864d0d3f4607ee",
   "outputs": [],
   "execution_count": 33
  },
  {
   "metadata": {
    "ExecuteTime": {
     "end_time": "2025-03-11T20:39:38.240006Z",
     "start_time": "2025-03-11T20:39:38.217826Z"
    }
   },
   "cell_type": "code",
   "source": [
    "data = pd.read_csv(r\"C:\\Users\\Oliver\\Downloads\\Mobile Dataset\\Flipkart_Mobiles.csv\")\n",
    "data"
   ],
   "id": "f547551006e2cc2",
   "outputs": [
    {
     "data": {
      "text/plain": [
       "        Brand   Model            Color Memory Storage  Rating  Selling Price  \\\n",
       "0        OPPO     A53  Moonlight Black   4 GB   64 GB     4.5          11990   \n",
       "1        OPPO     A53       Mint Cream   4 GB   64 GB     4.5          11990   \n",
       "2        OPPO     A53  Moonlight Black   6 GB  128 GB     4.3          13990   \n",
       "3        OPPO     A53       Mint Cream   6 GB  128 GB     4.3          13990   \n",
       "4        OPPO     A53   Electric Black   4 GB   64 GB     4.5          11990   \n",
       "...       ...     ...              ...    ...     ...     ...            ...   \n",
       "3109  SAMSUNG  M52 5G    Blazing Black   6 GB  128 GB     4.3          25990   \n",
       "3110  SAMSUNG  M52 5G         Icy Blue   6 GB  128 GB     4.3          25489   \n",
       "3111  SAMSUNG  M52 5G         Icy Blue   8 GB  128 GB     4.3          27239   \n",
       "3112  SAMSUNG  M52 5G      Slate Black   8 GB  128 GB     4.2          22989   \n",
       "3113  SAMSUNG  M52 5G         Sky Blue   8 GB  128 GB     4.2          20350   \n",
       "\n",
       "      Original Price  \n",
       "0              15990  \n",
       "1              15990  \n",
       "2              17990  \n",
       "3              17990  \n",
       "4              15990  \n",
       "...              ...  \n",
       "3109           25990  \n",
       "3110           28449  \n",
       "3111           31489  \n",
       "3112           22989  \n",
       "3113           22595  \n",
       "\n",
       "[3114 rows x 8 columns]"
      ],
      "text/html": [
       "<div>\n",
       "<style scoped>\n",
       "    .dataframe tbody tr th:only-of-type {\n",
       "        vertical-align: middle;\n",
       "    }\n",
       "\n",
       "    .dataframe tbody tr th {\n",
       "        vertical-align: top;\n",
       "    }\n",
       "\n",
       "    .dataframe thead th {\n",
       "        text-align: right;\n",
       "    }\n",
       "</style>\n",
       "<table border=\"1\" class=\"dataframe\">\n",
       "  <thead>\n",
       "    <tr style=\"text-align: right;\">\n",
       "      <th></th>\n",
       "      <th>Brand</th>\n",
       "      <th>Model</th>\n",
       "      <th>Color</th>\n",
       "      <th>Memory</th>\n",
       "      <th>Storage</th>\n",
       "      <th>Rating</th>\n",
       "      <th>Selling Price</th>\n",
       "      <th>Original Price</th>\n",
       "    </tr>\n",
       "  </thead>\n",
       "  <tbody>\n",
       "    <tr>\n",
       "      <th>0</th>\n",
       "      <td>OPPO</td>\n",
       "      <td>A53</td>\n",
       "      <td>Moonlight Black</td>\n",
       "      <td>4 GB</td>\n",
       "      <td>64 GB</td>\n",
       "      <td>4.5</td>\n",
       "      <td>11990</td>\n",
       "      <td>15990</td>\n",
       "    </tr>\n",
       "    <tr>\n",
       "      <th>1</th>\n",
       "      <td>OPPO</td>\n",
       "      <td>A53</td>\n",
       "      <td>Mint Cream</td>\n",
       "      <td>4 GB</td>\n",
       "      <td>64 GB</td>\n",
       "      <td>4.5</td>\n",
       "      <td>11990</td>\n",
       "      <td>15990</td>\n",
       "    </tr>\n",
       "    <tr>\n",
       "      <th>2</th>\n",
       "      <td>OPPO</td>\n",
       "      <td>A53</td>\n",
       "      <td>Moonlight Black</td>\n",
       "      <td>6 GB</td>\n",
       "      <td>128 GB</td>\n",
       "      <td>4.3</td>\n",
       "      <td>13990</td>\n",
       "      <td>17990</td>\n",
       "    </tr>\n",
       "    <tr>\n",
       "      <th>3</th>\n",
       "      <td>OPPO</td>\n",
       "      <td>A53</td>\n",
       "      <td>Mint Cream</td>\n",
       "      <td>6 GB</td>\n",
       "      <td>128 GB</td>\n",
       "      <td>4.3</td>\n",
       "      <td>13990</td>\n",
       "      <td>17990</td>\n",
       "    </tr>\n",
       "    <tr>\n",
       "      <th>4</th>\n",
       "      <td>OPPO</td>\n",
       "      <td>A53</td>\n",
       "      <td>Electric Black</td>\n",
       "      <td>4 GB</td>\n",
       "      <td>64 GB</td>\n",
       "      <td>4.5</td>\n",
       "      <td>11990</td>\n",
       "      <td>15990</td>\n",
       "    </tr>\n",
       "    <tr>\n",
       "      <th>...</th>\n",
       "      <td>...</td>\n",
       "      <td>...</td>\n",
       "      <td>...</td>\n",
       "      <td>...</td>\n",
       "      <td>...</td>\n",
       "      <td>...</td>\n",
       "      <td>...</td>\n",
       "      <td>...</td>\n",
       "    </tr>\n",
       "    <tr>\n",
       "      <th>3109</th>\n",
       "      <td>SAMSUNG</td>\n",
       "      <td>M52 5G</td>\n",
       "      <td>Blazing Black</td>\n",
       "      <td>6 GB</td>\n",
       "      <td>128 GB</td>\n",
       "      <td>4.3</td>\n",
       "      <td>25990</td>\n",
       "      <td>25990</td>\n",
       "    </tr>\n",
       "    <tr>\n",
       "      <th>3110</th>\n",
       "      <td>SAMSUNG</td>\n",
       "      <td>M52 5G</td>\n",
       "      <td>Icy Blue</td>\n",
       "      <td>6 GB</td>\n",
       "      <td>128 GB</td>\n",
       "      <td>4.3</td>\n",
       "      <td>25489</td>\n",
       "      <td>28449</td>\n",
       "    </tr>\n",
       "    <tr>\n",
       "      <th>3111</th>\n",
       "      <td>SAMSUNG</td>\n",
       "      <td>M52 5G</td>\n",
       "      <td>Icy Blue</td>\n",
       "      <td>8 GB</td>\n",
       "      <td>128 GB</td>\n",
       "      <td>4.3</td>\n",
       "      <td>27239</td>\n",
       "      <td>31489</td>\n",
       "    </tr>\n",
       "    <tr>\n",
       "      <th>3112</th>\n",
       "      <td>SAMSUNG</td>\n",
       "      <td>M52 5G</td>\n",
       "      <td>Slate Black</td>\n",
       "      <td>8 GB</td>\n",
       "      <td>128 GB</td>\n",
       "      <td>4.2</td>\n",
       "      <td>22989</td>\n",
       "      <td>22989</td>\n",
       "    </tr>\n",
       "    <tr>\n",
       "      <th>3113</th>\n",
       "      <td>SAMSUNG</td>\n",
       "      <td>M52 5G</td>\n",
       "      <td>Sky Blue</td>\n",
       "      <td>8 GB</td>\n",
       "      <td>128 GB</td>\n",
       "      <td>4.2</td>\n",
       "      <td>20350</td>\n",
       "      <td>22595</td>\n",
       "    </tr>\n",
       "  </tbody>\n",
       "</table>\n",
       "<p>3114 rows × 8 columns</p>\n",
       "</div>"
      ]
     },
     "execution_count": 32,
     "metadata": {},
     "output_type": "execute_result"
    }
   ],
   "execution_count": 32
  },
  {
   "metadata": {
    "ExecuteTime": {
     "end_time": "2025-03-11T19:33:20.904354Z",
     "start_time": "2025-03-11T19:33:20.875045Z"
    }
   },
   "cell_type": "code",
   "source": "data.info(), data.head()",
   "id": "296c25088d4e475b",
   "outputs": [
    {
     "name": "stdout",
     "output_type": "stream",
     "text": [
      "<class 'pandas.core.frame.DataFrame'>\n",
      "RangeIndex: 3114 entries, 0 to 3113\n",
      "Data columns (total 8 columns):\n",
      " #   Column          Non-Null Count  Dtype  \n",
      "---  ------          --------------  -----  \n",
      " 0   Brand           3114 non-null   object \n",
      " 1   Model           3114 non-null   object \n",
      " 2   Color           3114 non-null   object \n",
      " 3   Memory          3071 non-null   object \n",
      " 4   Storage         3075 non-null   object \n",
      " 5   Rating          2970 non-null   float64\n",
      " 6   Selling Price   3114 non-null   int64  \n",
      " 7   Original Price  3114 non-null   int64  \n",
      "dtypes: float64(1), int64(2), object(5)\n",
      "memory usage: 194.8+ KB\n"
     ]
    },
    {
     "data": {
      "text/plain": [
       "(None,\n",
       "   Brand Model            Color Memory Storage  Rating  Selling Price  \\\n",
       " 0  OPPO   A53  Moonlight Black   4 GB   64 GB     4.5          11990   \n",
       " 1  OPPO   A53       Mint Cream   4 GB   64 GB     4.5          11990   \n",
       " 2  OPPO   A53  Moonlight Black   6 GB  128 GB     4.3          13990   \n",
       " 3  OPPO   A53       Mint Cream   6 GB  128 GB     4.3          13990   \n",
       " 4  OPPO   A53   Electric Black   4 GB   64 GB     4.5          11990   \n",
       " \n",
       "    Original Price  \n",
       " 0           15990  \n",
       " 1           15990  \n",
       " 2           17990  \n",
       " 3           17990  \n",
       " 4           15990  )"
      ]
     },
     "execution_count": 7,
     "metadata": {},
     "output_type": "execute_result"
    }
   ],
   "execution_count": 7
  },
  {
   "metadata": {
    "ExecuteTime": {
     "end_time": "2025-03-11T21:14:07.562082Z",
     "start_time": "2025-03-11T21:14:07.546505Z"
    }
   },
   "cell_type": "code",
   "source": [
    "data[[\"Selling Price\", \"Original Price\"]] = data[[\"Original Price\", \"Selling Price\"]] # Swapping the \"Selling Price\" and the \"Original Price\" since they appear to have been wrongly labelled.\n",
    "data\n"
   ],
   "id": "910d24278c2538d1",
   "outputs": [
    {
     "data": {
      "text/plain": [
       "        Brand   Model            Color Memory Storage  Rating  Selling Price  \\\n",
       "0        OPPO     A53  Moonlight Black   4 GB   64 GB     4.5          15990   \n",
       "1        OPPO     A53       Mint Cream   4 GB   64 GB     4.5          15990   \n",
       "2        OPPO     A53  Moonlight Black   6 GB  128 GB     4.3          17990   \n",
       "3        OPPO     A53       Mint Cream   6 GB  128 GB     4.3          17990   \n",
       "4        OPPO     A53   Electric Black   4 GB   64 GB     4.5          15990   \n",
       "...       ...     ...              ...    ...     ...     ...            ...   \n",
       "3109  SAMSUNG  M52 5G    Blazing Black   6 GB  128 GB     4.3          25990   \n",
       "3110  SAMSUNG  M52 5G         Icy Blue   6 GB  128 GB     4.3          28449   \n",
       "3111  SAMSUNG  M52 5G         Icy Blue   8 GB  128 GB     4.3          31489   \n",
       "3112  SAMSUNG  M52 5G      Slate Black   8 GB  128 GB     4.2          22989   \n",
       "3113  SAMSUNG  M52 5G         Sky Blue   8 GB  128 GB     4.2          22595   \n",
       "\n",
       "      Original Price  Profit  \n",
       "0              11990   -4000  \n",
       "1              11990   -4000  \n",
       "2              13990   -4000  \n",
       "3              13990   -4000  \n",
       "4              11990   -4000  \n",
       "...              ...     ...  \n",
       "3109           25990       0  \n",
       "3110           25489   -2960  \n",
       "3111           27239   -4250  \n",
       "3112           22989       0  \n",
       "3113           20350   -2245  \n",
       "\n",
       "[3114 rows x 9 columns]"
      ],
      "text/html": [
       "<div>\n",
       "<style scoped>\n",
       "    .dataframe tbody tr th:only-of-type {\n",
       "        vertical-align: middle;\n",
       "    }\n",
       "\n",
       "    .dataframe tbody tr th {\n",
       "        vertical-align: top;\n",
       "    }\n",
       "\n",
       "    .dataframe thead th {\n",
       "        text-align: right;\n",
       "    }\n",
       "</style>\n",
       "<table border=\"1\" class=\"dataframe\">\n",
       "  <thead>\n",
       "    <tr style=\"text-align: right;\">\n",
       "      <th></th>\n",
       "      <th>Brand</th>\n",
       "      <th>Model</th>\n",
       "      <th>Color</th>\n",
       "      <th>Memory</th>\n",
       "      <th>Storage</th>\n",
       "      <th>Rating</th>\n",
       "      <th>Selling Price</th>\n",
       "      <th>Original Price</th>\n",
       "      <th>Profit</th>\n",
       "    </tr>\n",
       "  </thead>\n",
       "  <tbody>\n",
       "    <tr>\n",
       "      <th>0</th>\n",
       "      <td>OPPO</td>\n",
       "      <td>A53</td>\n",
       "      <td>Moonlight Black</td>\n",
       "      <td>4 GB</td>\n",
       "      <td>64 GB</td>\n",
       "      <td>4.5</td>\n",
       "      <td>15990</td>\n",
       "      <td>11990</td>\n",
       "      <td>-4000</td>\n",
       "    </tr>\n",
       "    <tr>\n",
       "      <th>1</th>\n",
       "      <td>OPPO</td>\n",
       "      <td>A53</td>\n",
       "      <td>Mint Cream</td>\n",
       "      <td>4 GB</td>\n",
       "      <td>64 GB</td>\n",
       "      <td>4.5</td>\n",
       "      <td>15990</td>\n",
       "      <td>11990</td>\n",
       "      <td>-4000</td>\n",
       "    </tr>\n",
       "    <tr>\n",
       "      <th>2</th>\n",
       "      <td>OPPO</td>\n",
       "      <td>A53</td>\n",
       "      <td>Moonlight Black</td>\n",
       "      <td>6 GB</td>\n",
       "      <td>128 GB</td>\n",
       "      <td>4.3</td>\n",
       "      <td>17990</td>\n",
       "      <td>13990</td>\n",
       "      <td>-4000</td>\n",
       "    </tr>\n",
       "    <tr>\n",
       "      <th>3</th>\n",
       "      <td>OPPO</td>\n",
       "      <td>A53</td>\n",
       "      <td>Mint Cream</td>\n",
       "      <td>6 GB</td>\n",
       "      <td>128 GB</td>\n",
       "      <td>4.3</td>\n",
       "      <td>17990</td>\n",
       "      <td>13990</td>\n",
       "      <td>-4000</td>\n",
       "    </tr>\n",
       "    <tr>\n",
       "      <th>4</th>\n",
       "      <td>OPPO</td>\n",
       "      <td>A53</td>\n",
       "      <td>Electric Black</td>\n",
       "      <td>4 GB</td>\n",
       "      <td>64 GB</td>\n",
       "      <td>4.5</td>\n",
       "      <td>15990</td>\n",
       "      <td>11990</td>\n",
       "      <td>-4000</td>\n",
       "    </tr>\n",
       "    <tr>\n",
       "      <th>...</th>\n",
       "      <td>...</td>\n",
       "      <td>...</td>\n",
       "      <td>...</td>\n",
       "      <td>...</td>\n",
       "      <td>...</td>\n",
       "      <td>...</td>\n",
       "      <td>...</td>\n",
       "      <td>...</td>\n",
       "      <td>...</td>\n",
       "    </tr>\n",
       "    <tr>\n",
       "      <th>3109</th>\n",
       "      <td>SAMSUNG</td>\n",
       "      <td>M52 5G</td>\n",
       "      <td>Blazing Black</td>\n",
       "      <td>6 GB</td>\n",
       "      <td>128 GB</td>\n",
       "      <td>4.3</td>\n",
       "      <td>25990</td>\n",
       "      <td>25990</td>\n",
       "      <td>0</td>\n",
       "    </tr>\n",
       "    <tr>\n",
       "      <th>3110</th>\n",
       "      <td>SAMSUNG</td>\n",
       "      <td>M52 5G</td>\n",
       "      <td>Icy Blue</td>\n",
       "      <td>6 GB</td>\n",
       "      <td>128 GB</td>\n",
       "      <td>4.3</td>\n",
       "      <td>28449</td>\n",
       "      <td>25489</td>\n",
       "      <td>-2960</td>\n",
       "    </tr>\n",
       "    <tr>\n",
       "      <th>3111</th>\n",
       "      <td>SAMSUNG</td>\n",
       "      <td>M52 5G</td>\n",
       "      <td>Icy Blue</td>\n",
       "      <td>8 GB</td>\n",
       "      <td>128 GB</td>\n",
       "      <td>4.3</td>\n",
       "      <td>31489</td>\n",
       "      <td>27239</td>\n",
       "      <td>-4250</td>\n",
       "    </tr>\n",
       "    <tr>\n",
       "      <th>3112</th>\n",
       "      <td>SAMSUNG</td>\n",
       "      <td>M52 5G</td>\n",
       "      <td>Slate Black</td>\n",
       "      <td>8 GB</td>\n",
       "      <td>128 GB</td>\n",
       "      <td>4.2</td>\n",
       "      <td>22989</td>\n",
       "      <td>22989</td>\n",
       "      <td>0</td>\n",
       "    </tr>\n",
       "    <tr>\n",
       "      <th>3113</th>\n",
       "      <td>SAMSUNG</td>\n",
       "      <td>M52 5G</td>\n",
       "      <td>Sky Blue</td>\n",
       "      <td>8 GB</td>\n",
       "      <td>128 GB</td>\n",
       "      <td>4.2</td>\n",
       "      <td>22595</td>\n",
       "      <td>20350</td>\n",
       "      <td>-2245</td>\n",
       "    </tr>\n",
       "  </tbody>\n",
       "</table>\n",
       "<p>3114 rows × 9 columns</p>\n",
       "</div>"
      ]
     },
     "execution_count": 59,
     "metadata": {},
     "output_type": "execute_result"
    }
   ],
   "execution_count": 59
  },
  {
   "metadata": {},
   "cell_type": "markdown",
   "source": "## Computing Basic Statistics",
   "id": "9b8b59a9e5ce5cb8"
  },
  {
   "metadata": {},
   "cell_type": "markdown",
   "source": "- Mean and Median only calculated for \"Rating\", \"Selling Price\" and \"Original Price\" since they are entirely integer values.",
   "id": "8b18cdf823bba417"
  },
  {
   "metadata": {
    "ExecuteTime": {
     "end_time": "2025-03-11T20:03:06.483199Z",
     "start_time": "2025-03-11T20:03:06.470876Z"
    }
   },
   "cell_type": "code",
   "source": "data[\"Memory\"].mode()",
   "id": "bbc6bafe57837e8d",
   "outputs": [
    {
     "data": {
      "text/plain": [
       "0    4 GB\n",
       "Name: Memory, dtype: object"
      ]
     },
     "execution_count": 9,
     "metadata": {},
     "output_type": "execute_result"
    }
   ],
   "execution_count": 9
  },
  {
   "metadata": {
    "ExecuteTime": {
     "end_time": "2025-03-11T20:03:56.463875Z",
     "start_time": "2025-03-11T20:03:56.453725Z"
    }
   },
   "cell_type": "code",
   "source": "data[\"Storage\"].mode()",
   "id": "35a05ad0b8ac93b5",
   "outputs": [
    {
     "data": {
      "text/plain": [
       "0    64 GB\n",
       "Name: Storage, dtype: object"
      ]
     },
     "execution_count": 10,
     "metadata": {},
     "output_type": "execute_result"
    }
   ],
   "execution_count": 10
  },
  {
   "metadata": {},
   "cell_type": "code",
   "source": "data[\"Rating\"].mean()",
   "id": "a713b21787fdf9d7",
   "outputs": [],
   "execution_count": null
  },
  {
   "metadata": {
    "ExecuteTime": {
     "end_time": "2025-03-11T20:07:55.394786Z",
     "start_time": "2025-03-11T20:07:55.386793Z"
    }
   },
   "cell_type": "code",
   "source": "data[\"Rating\"].mode()",
   "id": "3dfe168220baa092",
   "outputs": [
    {
     "data": {
      "text/plain": [
       "0    4.3\n",
       "Name: Rating, dtype: float64"
      ]
     },
     "execution_count": 13,
     "metadata": {},
     "output_type": "execute_result"
    }
   ],
   "execution_count": 13
  },
  {
   "metadata": {
    "ExecuteTime": {
     "end_time": "2025-03-11T20:08:08.540741Z",
     "start_time": "2025-03-11T20:08:08.533520Z"
    }
   },
   "cell_type": "code",
   "source": "data[\"Rating\"].median()",
   "id": "36d026bcc165e030",
   "outputs": [
    {
     "data": {
      "text/plain": [
       "np.float64(4.3)"
      ]
     },
     "execution_count": 14,
     "metadata": {},
     "output_type": "execute_result"
    }
   ],
   "execution_count": 14
  },
  {
   "metadata": {
    "ExecuteTime": {
     "end_time": "2025-03-11T21:14:21.617125Z",
     "start_time": "2025-03-11T21:14:21.610755Z"
    }
   },
   "cell_type": "code",
   "source": "data[\"Selling Price\"].mean()",
   "id": "f7ec5494f4837797",
   "outputs": [
    {
     "data": {
      "text/plain": [
       "np.float64(28333.47302504817)"
      ]
     },
     "execution_count": 60,
     "metadata": {},
     "output_type": "execute_result"
    }
   ],
   "execution_count": 60
  },
  {
   "metadata": {
    "ExecuteTime": {
     "end_time": "2025-03-11T20:09:27.447223Z",
     "start_time": "2025-03-11T20:09:27.438838Z"
    }
   },
   "cell_type": "code",
   "source": "data[\"Selling Price\"].mode()",
   "id": "9170f2748abe2ea4",
   "outputs": [
    {
     "data": {
      "text/plain": [
       "0    9999\n",
       "Name: Selling Price, dtype: int64"
      ]
     },
     "execution_count": 16,
     "metadata": {},
     "output_type": "execute_result"
    }
   ],
   "execution_count": 16
  },
  {
   "metadata": {
    "ExecuteTime": {
     "end_time": "2025-03-11T20:12:36.378366Z",
     "start_time": "2025-03-11T20:12:36.368416Z"
    }
   },
   "cell_type": "code",
   "source": "data[\"Selling Price\"].median()",
   "id": "d49bc48571a628e0",
   "outputs": [
    {
     "data": {
      "text/plain": [
       "np.float64(15000.0)"
      ]
     },
     "execution_count": 17,
     "metadata": {},
     "output_type": "execute_result"
    }
   ],
   "execution_count": 17
  },
  {
   "metadata": {
    "ExecuteTime": {
     "end_time": "2025-03-11T20:15:23.132715Z",
     "start_time": "2025-03-11T20:15:23.125510Z"
    }
   },
   "cell_type": "code",
   "source": "data[\"Original Price\"].mean()",
   "id": "bcc23d89bea71a49",
   "outputs": [
    {
     "data": {
      "text/plain": [
       "np.float64(28333.47302504817)"
      ]
     },
     "execution_count": 18,
     "metadata": {},
     "output_type": "execute_result"
    }
   ],
   "execution_count": 18
  },
  {
   "metadata": {
    "ExecuteTime": {
     "end_time": "2025-03-11T20:15:39.518533Z",
     "start_time": "2025-03-11T20:15:39.509765Z"
    }
   },
   "cell_type": "code",
   "source": "data[\"Original Price\"].median()",
   "id": "bc3a9f3c1749a1de",
   "outputs": [
    {
     "data": {
      "text/plain": [
       "np.float64(16889.5)"
      ]
     },
     "execution_count": 19,
     "metadata": {},
     "output_type": "execute_result"
    }
   ],
   "execution_count": 19
  },
  {
   "metadata": {
    "ExecuteTime": {
     "end_time": "2025-03-11T20:15:52.223045Z",
     "start_time": "2025-03-11T20:15:52.215786Z"
    }
   },
   "cell_type": "code",
   "source": "data[\"Original Price\"].mode()",
   "id": "99832af08de3e165",
   "outputs": [
    {
     "data": {
      "text/plain": [
       "0    9999\n",
       "Name: Original Price, dtype: int64"
      ]
     },
     "execution_count": 20,
     "metadata": {},
     "output_type": "execute_result"
    }
   ],
   "execution_count": 20
  },
  {
   "metadata": {
    "ExecuteTime": {
     "end_time": "2025-03-11T20:16:13.956291Z",
     "start_time": "2025-03-11T20:16:13.946388Z"
    }
   },
   "cell_type": "code",
   "source": "data[\"Brand\"].mode()",
   "id": "48929249946a08d4",
   "outputs": [
    {
     "data": {
      "text/plain": [
       "0    SAMSUNG\n",
       "Name: Brand, dtype: object"
      ]
     },
     "execution_count": 21,
     "metadata": {},
     "output_type": "execute_result"
    }
   ],
   "execution_count": 21
  },
  {
   "metadata": {
    "ExecuteTime": {
     "end_time": "2025-03-11T20:19:41.825805Z",
     "start_time": "2025-03-11T20:19:41.817052Z"
    }
   },
   "cell_type": "code",
   "source": "data[\"Color\"].mode()",
   "id": "2ec27cf8d810281d",
   "outputs": [
    {
     "data": {
      "text/plain": [
       "0    Black\n",
       "Name: Color, dtype: object"
      ]
     },
     "execution_count": 22,
     "metadata": {},
     "output_type": "execute_result"
    }
   ],
   "execution_count": 22
  },
  {
   "metadata": {},
   "cell_type": "markdown",
   "source": "## Handling Missing Values",
   "id": "2abc6aea7ec44b3"
  },
  {
   "metadata": {
    "ExecuteTime": {
     "end_time": "2025-03-11T19:24:15.387287Z",
     "start_time": "2025-03-11T19:24:15.377375Z"
    }
   },
   "cell_type": "code",
   "source": "data.isnull().values.any() # Check for missing values",
   "id": "1d7bea7dd1a8dd45",
   "outputs": [
    {
     "data": {
      "text/plain": [
       "np.True_"
      ]
     },
     "execution_count": 4,
     "metadata": {},
     "output_type": "execute_result"
    }
   ],
   "execution_count": 4
  },
  {
   "metadata": {
    "ExecuteTime": {
     "end_time": "2025-03-11T19:25:42.669056Z",
     "start_time": "2025-03-11T19:25:42.659406Z"
    }
   },
   "cell_type": "code",
   "source": "data.isnull().sum().sum() # Total number of missing values",
   "id": "87b22124f7f3f087",
   "outputs": [
    {
     "data": {
      "text/plain": [
       "np.int64(226)"
      ]
     },
     "execution_count": 5,
     "metadata": {},
     "output_type": "execute_result"
    }
   ],
   "execution_count": 5
  },
  {
   "metadata": {
    "ExecuteTime": {
     "end_time": "2025-03-11T19:26:38.341206Z",
     "start_time": "2025-03-11T19:26:38.320534Z"
    }
   },
   "cell_type": "code",
   "source": "data[data.isnull().any(axis=1)] # Show rows with missing values",
   "id": "5057b142ea05aacc",
   "outputs": [
    {
     "data": {
      "text/plain": [
       "     Brand       Model          Color Memory Storage  Rating  Selling Price  \\\n",
       "37    OPPO         A16     Pearl Blue   4 GB   64 GB     NaN          13850   \n",
       "41    OPPO         A16  CRYSTAL BLACK   4 GB   64 GB     NaN          13990   \n",
       "128   OPPO         A16  Crystal Black   4 GB   64 GB     NaN          13490   \n",
       "145   OPPO        F19s   Glowing Gold   6 GB  128 GB     NaN          19990   \n",
       "146   OPPO        F19s  Glowing Black   6 GB  128 GB     NaN          19990   \n",
       "...    ...         ...            ...    ...     ...     ...            ...   \n",
       "3031  ASUS      ROG 5s    Storm White   8 GB  128 GB     NaN          49999   \n",
       "3032  ASUS      ROG 5s  Phantom Black   8 GB  128 GB     NaN          49999   \n",
       "3033  ASUS      ROG 5s    Storm White  12 GB  256 GB     NaN          57999   \n",
       "3034  ASUS      ROG 5s  Phantom Black  12 GB  256 GB     NaN          57999   \n",
       "3035  ASUS  ROG 5s Pro  Phantom Black  18 GB  512 GB     NaN          79999   \n",
       "\n",
       "      Original Price  \n",
       "37             13850  \n",
       "41             15990  \n",
       "128            13490  \n",
       "145            22990  \n",
       "146            22990  \n",
       "...              ...  \n",
       "3031           55999  \n",
       "3032           55999  \n",
       "3033           63999  \n",
       "3034           63999  \n",
       "3035           85999  \n",
       "\n",
       "[217 rows x 8 columns]"
      ],
      "text/html": [
       "<div>\n",
       "<style scoped>\n",
       "    .dataframe tbody tr th:only-of-type {\n",
       "        vertical-align: middle;\n",
       "    }\n",
       "\n",
       "    .dataframe tbody tr th {\n",
       "        vertical-align: top;\n",
       "    }\n",
       "\n",
       "    .dataframe thead th {\n",
       "        text-align: right;\n",
       "    }\n",
       "</style>\n",
       "<table border=\"1\" class=\"dataframe\">\n",
       "  <thead>\n",
       "    <tr style=\"text-align: right;\">\n",
       "      <th></th>\n",
       "      <th>Brand</th>\n",
       "      <th>Model</th>\n",
       "      <th>Color</th>\n",
       "      <th>Memory</th>\n",
       "      <th>Storage</th>\n",
       "      <th>Rating</th>\n",
       "      <th>Selling Price</th>\n",
       "      <th>Original Price</th>\n",
       "    </tr>\n",
       "  </thead>\n",
       "  <tbody>\n",
       "    <tr>\n",
       "      <th>37</th>\n",
       "      <td>OPPO</td>\n",
       "      <td>A16</td>\n",
       "      <td>Pearl Blue</td>\n",
       "      <td>4 GB</td>\n",
       "      <td>64 GB</td>\n",
       "      <td>NaN</td>\n",
       "      <td>13850</td>\n",
       "      <td>13850</td>\n",
       "    </tr>\n",
       "    <tr>\n",
       "      <th>41</th>\n",
       "      <td>OPPO</td>\n",
       "      <td>A16</td>\n",
       "      <td>CRYSTAL BLACK</td>\n",
       "      <td>4 GB</td>\n",
       "      <td>64 GB</td>\n",
       "      <td>NaN</td>\n",
       "      <td>13990</td>\n",
       "      <td>15990</td>\n",
       "    </tr>\n",
       "    <tr>\n",
       "      <th>128</th>\n",
       "      <td>OPPO</td>\n",
       "      <td>A16</td>\n",
       "      <td>Crystal Black</td>\n",
       "      <td>4 GB</td>\n",
       "      <td>64 GB</td>\n",
       "      <td>NaN</td>\n",
       "      <td>13490</td>\n",
       "      <td>13490</td>\n",
       "    </tr>\n",
       "    <tr>\n",
       "      <th>145</th>\n",
       "      <td>OPPO</td>\n",
       "      <td>F19s</td>\n",
       "      <td>Glowing Gold</td>\n",
       "      <td>6 GB</td>\n",
       "      <td>128 GB</td>\n",
       "      <td>NaN</td>\n",
       "      <td>19990</td>\n",
       "      <td>22990</td>\n",
       "    </tr>\n",
       "    <tr>\n",
       "      <th>146</th>\n",
       "      <td>OPPO</td>\n",
       "      <td>F19s</td>\n",
       "      <td>Glowing Black</td>\n",
       "      <td>6 GB</td>\n",
       "      <td>128 GB</td>\n",
       "      <td>NaN</td>\n",
       "      <td>19990</td>\n",
       "      <td>22990</td>\n",
       "    </tr>\n",
       "    <tr>\n",
       "      <th>...</th>\n",
       "      <td>...</td>\n",
       "      <td>...</td>\n",
       "      <td>...</td>\n",
       "      <td>...</td>\n",
       "      <td>...</td>\n",
       "      <td>...</td>\n",
       "      <td>...</td>\n",
       "      <td>...</td>\n",
       "    </tr>\n",
       "    <tr>\n",
       "      <th>3031</th>\n",
       "      <td>ASUS</td>\n",
       "      <td>ROG 5s</td>\n",
       "      <td>Storm White</td>\n",
       "      <td>8 GB</td>\n",
       "      <td>128 GB</td>\n",
       "      <td>NaN</td>\n",
       "      <td>49999</td>\n",
       "      <td>55999</td>\n",
       "    </tr>\n",
       "    <tr>\n",
       "      <th>3032</th>\n",
       "      <td>ASUS</td>\n",
       "      <td>ROG 5s</td>\n",
       "      <td>Phantom Black</td>\n",
       "      <td>8 GB</td>\n",
       "      <td>128 GB</td>\n",
       "      <td>NaN</td>\n",
       "      <td>49999</td>\n",
       "      <td>55999</td>\n",
       "    </tr>\n",
       "    <tr>\n",
       "      <th>3033</th>\n",
       "      <td>ASUS</td>\n",
       "      <td>ROG 5s</td>\n",
       "      <td>Storm White</td>\n",
       "      <td>12 GB</td>\n",
       "      <td>256 GB</td>\n",
       "      <td>NaN</td>\n",
       "      <td>57999</td>\n",
       "      <td>63999</td>\n",
       "    </tr>\n",
       "    <tr>\n",
       "      <th>3034</th>\n",
       "      <td>ASUS</td>\n",
       "      <td>ROG 5s</td>\n",
       "      <td>Phantom Black</td>\n",
       "      <td>12 GB</td>\n",
       "      <td>256 GB</td>\n",
       "      <td>NaN</td>\n",
       "      <td>57999</td>\n",
       "      <td>63999</td>\n",
       "    </tr>\n",
       "    <tr>\n",
       "      <th>3035</th>\n",
       "      <td>ASUS</td>\n",
       "      <td>ROG 5s Pro</td>\n",
       "      <td>Phantom Black</td>\n",
       "      <td>18 GB</td>\n",
       "      <td>512 GB</td>\n",
       "      <td>NaN</td>\n",
       "      <td>79999</td>\n",
       "      <td>85999</td>\n",
       "    </tr>\n",
       "  </tbody>\n",
       "</table>\n",
       "<p>217 rows × 8 columns</p>\n",
       "</div>"
      ]
     },
     "execution_count": 6,
     "metadata": {},
     "output_type": "execute_result"
    }
   ],
   "execution_count": 6
  },
  {
   "metadata": {},
   "cell_type": "markdown",
   "source": "- Fill missing \"Memory\" & \"Storage\" values with mode and \"Rating\" values with median",
   "id": "f48fd2c1b97d59da"
  },
  {
   "metadata": {
    "ExecuteTime": {
     "end_time": "2025-03-11T20:26:12.585232Z",
     "start_time": "2025-03-11T20:26:12.578451Z"
    }
   },
   "cell_type": "code",
   "source": [
    "data[\"Memory\"].fillna(data[\"Memory\"].mode()[0], inplace=True)\n",
    "data[\"Storage\"].fillna(data[\"Storage\"].mode()[0], inplace=True)"
   ],
   "id": "b27a80265f4994d7",
   "outputs": [],
   "execution_count": 29
  },
  {
   "metadata": {
    "ExecuteTime": {
     "end_time": "2025-03-11T20:26:21.302971Z",
     "start_time": "2025-03-11T20:26:21.295818Z"
    }
   },
   "cell_type": "code",
   "source": "data[\"Rating\"].fillna(data[\"Rating\"].median(), inplace=True)",
   "id": "a90017e4c978e351",
   "outputs": [],
   "execution_count": 30
  },
  {
   "metadata": {
    "ExecuteTime": {
     "end_time": "2025-03-11T20:27:38.628658Z",
     "start_time": "2025-03-11T20:27:38.621245Z"
    }
   },
   "cell_type": "code",
   "source": "data.isnull().values.any() # Checking whether the missing values have been handled",
   "id": "c970c98aa5c66f13",
   "outputs": [
    {
     "data": {
      "text/plain": [
       "np.False_"
      ]
     },
     "execution_count": 31,
     "metadata": {},
     "output_type": "execute_result"
    }
   ],
   "execution_count": 31
  },
  {
   "metadata": {},
   "cell_type": "markdown",
   "source": "## Handling Outliers:\n",
   "id": "43e075b0a39d9c6e"
  },
  {
   "metadata": {
    "ExecuteTime": {
     "end_time": "2025-03-11T21:14:30.136118Z",
     "start_time": "2025-03-11T21:14:30.120004Z"
    }
   },
   "cell_type": "code",
   "source": [
    "Q1 = data[\"Selling Price\"].quantile(0.25)\n",
    "Q3 = data[\"Selling Price\"].quantile(0.75)\n",
    "IQR = Q3 - Q1\n",
    "\n",
    "data_no_outliers = data[(data[\"Selling Price\"] >= (Q1 - 1.5 * IQR)) &\n",
    "                        (data[\"Selling Price\"] <= (Q3 + 1.5 * IQR))]\n",
    "\n",
    "data_no_outliers"
   ],
   "id": "e76911ccd97cec29",
   "outputs": [
    {
     "data": {
      "text/plain": [
       "        Brand   Model            Color Memory Storage  Rating  Selling Price  \\\n",
       "0        OPPO     A53  Moonlight Black   4 GB   64 GB     4.5          15990   \n",
       "1        OPPO     A53       Mint Cream   4 GB   64 GB     4.5          15990   \n",
       "2        OPPO     A53  Moonlight Black   6 GB  128 GB     4.3          17990   \n",
       "3        OPPO     A53       Mint Cream   6 GB  128 GB     4.3          17990   \n",
       "4        OPPO     A53   Electric Black   4 GB   64 GB     4.5          15990   \n",
       "...       ...     ...              ...    ...     ...     ...            ...   \n",
       "3109  SAMSUNG  M52 5G    Blazing Black   6 GB  128 GB     4.3          25990   \n",
       "3110  SAMSUNG  M52 5G         Icy Blue   6 GB  128 GB     4.3          28449   \n",
       "3111  SAMSUNG  M52 5G         Icy Blue   8 GB  128 GB     4.3          31489   \n",
       "3112  SAMSUNG  M52 5G      Slate Black   8 GB  128 GB     4.2          22989   \n",
       "3113  SAMSUNG  M52 5G         Sky Blue   8 GB  128 GB     4.2          22595   \n",
       "\n",
       "      Original Price  Profit  \n",
       "0              11990   -4000  \n",
       "1              11990   -4000  \n",
       "2              13990   -4000  \n",
       "3              13990   -4000  \n",
       "4              11990   -4000  \n",
       "...              ...     ...  \n",
       "3109           25990       0  \n",
       "3110           25489   -2960  \n",
       "3111           27239   -4250  \n",
       "3112           22989       0  \n",
       "3113           20350   -2245  \n",
       "\n",
       "[2769 rows x 9 columns]"
      ],
      "text/html": [
       "<div>\n",
       "<style scoped>\n",
       "    .dataframe tbody tr th:only-of-type {\n",
       "        vertical-align: middle;\n",
       "    }\n",
       "\n",
       "    .dataframe tbody tr th {\n",
       "        vertical-align: top;\n",
       "    }\n",
       "\n",
       "    .dataframe thead th {\n",
       "        text-align: right;\n",
       "    }\n",
       "</style>\n",
       "<table border=\"1\" class=\"dataframe\">\n",
       "  <thead>\n",
       "    <tr style=\"text-align: right;\">\n",
       "      <th></th>\n",
       "      <th>Brand</th>\n",
       "      <th>Model</th>\n",
       "      <th>Color</th>\n",
       "      <th>Memory</th>\n",
       "      <th>Storage</th>\n",
       "      <th>Rating</th>\n",
       "      <th>Selling Price</th>\n",
       "      <th>Original Price</th>\n",
       "      <th>Profit</th>\n",
       "    </tr>\n",
       "  </thead>\n",
       "  <tbody>\n",
       "    <tr>\n",
       "      <th>0</th>\n",
       "      <td>OPPO</td>\n",
       "      <td>A53</td>\n",
       "      <td>Moonlight Black</td>\n",
       "      <td>4 GB</td>\n",
       "      <td>64 GB</td>\n",
       "      <td>4.5</td>\n",
       "      <td>15990</td>\n",
       "      <td>11990</td>\n",
       "      <td>-4000</td>\n",
       "    </tr>\n",
       "    <tr>\n",
       "      <th>1</th>\n",
       "      <td>OPPO</td>\n",
       "      <td>A53</td>\n",
       "      <td>Mint Cream</td>\n",
       "      <td>4 GB</td>\n",
       "      <td>64 GB</td>\n",
       "      <td>4.5</td>\n",
       "      <td>15990</td>\n",
       "      <td>11990</td>\n",
       "      <td>-4000</td>\n",
       "    </tr>\n",
       "    <tr>\n",
       "      <th>2</th>\n",
       "      <td>OPPO</td>\n",
       "      <td>A53</td>\n",
       "      <td>Moonlight Black</td>\n",
       "      <td>6 GB</td>\n",
       "      <td>128 GB</td>\n",
       "      <td>4.3</td>\n",
       "      <td>17990</td>\n",
       "      <td>13990</td>\n",
       "      <td>-4000</td>\n",
       "    </tr>\n",
       "    <tr>\n",
       "      <th>3</th>\n",
       "      <td>OPPO</td>\n",
       "      <td>A53</td>\n",
       "      <td>Mint Cream</td>\n",
       "      <td>6 GB</td>\n",
       "      <td>128 GB</td>\n",
       "      <td>4.3</td>\n",
       "      <td>17990</td>\n",
       "      <td>13990</td>\n",
       "      <td>-4000</td>\n",
       "    </tr>\n",
       "    <tr>\n",
       "      <th>4</th>\n",
       "      <td>OPPO</td>\n",
       "      <td>A53</td>\n",
       "      <td>Electric Black</td>\n",
       "      <td>4 GB</td>\n",
       "      <td>64 GB</td>\n",
       "      <td>4.5</td>\n",
       "      <td>15990</td>\n",
       "      <td>11990</td>\n",
       "      <td>-4000</td>\n",
       "    </tr>\n",
       "    <tr>\n",
       "      <th>...</th>\n",
       "      <td>...</td>\n",
       "      <td>...</td>\n",
       "      <td>...</td>\n",
       "      <td>...</td>\n",
       "      <td>...</td>\n",
       "      <td>...</td>\n",
       "      <td>...</td>\n",
       "      <td>...</td>\n",
       "      <td>...</td>\n",
       "    </tr>\n",
       "    <tr>\n",
       "      <th>3109</th>\n",
       "      <td>SAMSUNG</td>\n",
       "      <td>M52 5G</td>\n",
       "      <td>Blazing Black</td>\n",
       "      <td>6 GB</td>\n",
       "      <td>128 GB</td>\n",
       "      <td>4.3</td>\n",
       "      <td>25990</td>\n",
       "      <td>25990</td>\n",
       "      <td>0</td>\n",
       "    </tr>\n",
       "    <tr>\n",
       "      <th>3110</th>\n",
       "      <td>SAMSUNG</td>\n",
       "      <td>M52 5G</td>\n",
       "      <td>Icy Blue</td>\n",
       "      <td>6 GB</td>\n",
       "      <td>128 GB</td>\n",
       "      <td>4.3</td>\n",
       "      <td>28449</td>\n",
       "      <td>25489</td>\n",
       "      <td>-2960</td>\n",
       "    </tr>\n",
       "    <tr>\n",
       "      <th>3111</th>\n",
       "      <td>SAMSUNG</td>\n",
       "      <td>M52 5G</td>\n",
       "      <td>Icy Blue</td>\n",
       "      <td>8 GB</td>\n",
       "      <td>128 GB</td>\n",
       "      <td>4.3</td>\n",
       "      <td>31489</td>\n",
       "      <td>27239</td>\n",
       "      <td>-4250</td>\n",
       "    </tr>\n",
       "    <tr>\n",
       "      <th>3112</th>\n",
       "      <td>SAMSUNG</td>\n",
       "      <td>M52 5G</td>\n",
       "      <td>Slate Black</td>\n",
       "      <td>8 GB</td>\n",
       "      <td>128 GB</td>\n",
       "      <td>4.2</td>\n",
       "      <td>22989</td>\n",
       "      <td>22989</td>\n",
       "      <td>0</td>\n",
       "    </tr>\n",
       "    <tr>\n",
       "      <th>3113</th>\n",
       "      <td>SAMSUNG</td>\n",
       "      <td>M52 5G</td>\n",
       "      <td>Sky Blue</td>\n",
       "      <td>8 GB</td>\n",
       "      <td>128 GB</td>\n",
       "      <td>4.2</td>\n",
       "      <td>22595</td>\n",
       "      <td>20350</td>\n",
       "      <td>-2245</td>\n",
       "    </tr>\n",
       "  </tbody>\n",
       "</table>\n",
       "<p>2769 rows × 9 columns</p>\n",
       "</div>"
      ]
     },
     "execution_count": 61,
     "metadata": {},
     "output_type": "execute_result"
    }
   ],
   "execution_count": 61
  },
  {
   "metadata": {},
   "cell_type": "markdown",
   "source": [
    "## Other Computations:\n",
    "\n"
   ],
   "id": "c910d2ed2a5ca020"
  },
  {
   "metadata": {
    "ExecuteTime": {
     "end_time": "2025-03-11T21:14:35.945746Z",
     "start_time": "2025-03-11T21:14:35.934862Z"
    }
   },
   "cell_type": "code",
   "source": [
    "# Profit made by each company\n",
    "data[\"Profit\"] = data[\"Selling Price\"] - data[\"Original Price\"]\n",
    "company_profits = data.groupby(\"Brand\")[\"Profit\"].sum().reset_index()\n",
    "company_profits = company_profits.sort_values(by=\"Profit\", ascending=False)\n",
    "company_profits"
   ],
   "id": "c7a8541e85ee550a",
   "outputs": [
    {
     "data": {
      "text/plain": [
       "           Brand   Profit\n",
       "13       SAMSUNG  1823227\n",
       "1          Apple  1134611\n",
       "11          OPPO   533202\n",
       "15        realme   471403\n",
       "9       Motorola   454009\n",
       "7             LG   301415\n",
       "16          vivo   210386\n",
       "12          POCO   193500\n",
       "14        Xiaomi   180446\n",
       "10         Nokia   158841\n",
       "0           ASUS   148500\n",
       "6        Infinix   139812\n",
       "2         GIONEE    88174\n",
       "8         Lenovo    32267\n",
       "5           IQOO    19000\n",
       "3   Google Pixel    17990\n",
       "4            HTC        0"
      ],
      "text/html": [
       "<div>\n",
       "<style scoped>\n",
       "    .dataframe tbody tr th:only-of-type {\n",
       "        vertical-align: middle;\n",
       "    }\n",
       "\n",
       "    .dataframe tbody tr th {\n",
       "        vertical-align: top;\n",
       "    }\n",
       "\n",
       "    .dataframe thead th {\n",
       "        text-align: right;\n",
       "    }\n",
       "</style>\n",
       "<table border=\"1\" class=\"dataframe\">\n",
       "  <thead>\n",
       "    <tr style=\"text-align: right;\">\n",
       "      <th></th>\n",
       "      <th>Brand</th>\n",
       "      <th>Profit</th>\n",
       "    </tr>\n",
       "  </thead>\n",
       "  <tbody>\n",
       "    <tr>\n",
       "      <th>13</th>\n",
       "      <td>SAMSUNG</td>\n",
       "      <td>1823227</td>\n",
       "    </tr>\n",
       "    <tr>\n",
       "      <th>1</th>\n",
       "      <td>Apple</td>\n",
       "      <td>1134611</td>\n",
       "    </tr>\n",
       "    <tr>\n",
       "      <th>11</th>\n",
       "      <td>OPPO</td>\n",
       "      <td>533202</td>\n",
       "    </tr>\n",
       "    <tr>\n",
       "      <th>15</th>\n",
       "      <td>realme</td>\n",
       "      <td>471403</td>\n",
       "    </tr>\n",
       "    <tr>\n",
       "      <th>9</th>\n",
       "      <td>Motorola</td>\n",
       "      <td>454009</td>\n",
       "    </tr>\n",
       "    <tr>\n",
       "      <th>7</th>\n",
       "      <td>LG</td>\n",
       "      <td>301415</td>\n",
       "    </tr>\n",
       "    <tr>\n",
       "      <th>16</th>\n",
       "      <td>vivo</td>\n",
       "      <td>210386</td>\n",
       "    </tr>\n",
       "    <tr>\n",
       "      <th>12</th>\n",
       "      <td>POCO</td>\n",
       "      <td>193500</td>\n",
       "    </tr>\n",
       "    <tr>\n",
       "      <th>14</th>\n",
       "      <td>Xiaomi</td>\n",
       "      <td>180446</td>\n",
       "    </tr>\n",
       "    <tr>\n",
       "      <th>10</th>\n",
       "      <td>Nokia</td>\n",
       "      <td>158841</td>\n",
       "    </tr>\n",
       "    <tr>\n",
       "      <th>0</th>\n",
       "      <td>ASUS</td>\n",
       "      <td>148500</td>\n",
       "    </tr>\n",
       "    <tr>\n",
       "      <th>6</th>\n",
       "      <td>Infinix</td>\n",
       "      <td>139812</td>\n",
       "    </tr>\n",
       "    <tr>\n",
       "      <th>2</th>\n",
       "      <td>GIONEE</td>\n",
       "      <td>88174</td>\n",
       "    </tr>\n",
       "    <tr>\n",
       "      <th>8</th>\n",
       "      <td>Lenovo</td>\n",
       "      <td>32267</td>\n",
       "    </tr>\n",
       "    <tr>\n",
       "      <th>5</th>\n",
       "      <td>IQOO</td>\n",
       "      <td>19000</td>\n",
       "    </tr>\n",
       "    <tr>\n",
       "      <th>3</th>\n",
       "      <td>Google Pixel</td>\n",
       "      <td>17990</td>\n",
       "    </tr>\n",
       "    <tr>\n",
       "      <th>4</th>\n",
       "      <td>HTC</td>\n",
       "      <td>0</td>\n",
       "    </tr>\n",
       "  </tbody>\n",
       "</table>\n",
       "</div>"
      ]
     },
     "execution_count": 62,
     "metadata": {},
     "output_type": "execute_result"
    }
   ],
   "execution_count": 62
  },
  {
   "metadata": {},
   "cell_type": "markdown",
   "source": "- It is seen that Samsung made the most profit, Google Pixel made the least profit and HTC made no profit.",
   "id": "f0c18a2af2b2b275"
  },
  {
   "metadata": {},
   "cell_type": "markdown",
   "source": [
    "## Data Visualization\n",
    "\n"
   ],
   "id": "1652be23913bf54b"
  },
  {
   "metadata": {
    "ExecuteTime": {
     "end_time": "2025-03-11T20:55:22.470706Z",
     "start_time": "2025-03-11T20:55:22.464672Z"
    }
   },
   "cell_type": "code",
   "source": [
    "import matplotlib.pyplot as plt\n",
    "import seaborn as sns"
   ],
   "id": "71579dbe9a7ee1fe",
   "outputs": [],
   "execution_count": 46
  },
  {
   "metadata": {
    "ExecuteTime": {
     "end_time": "2025-03-11T21:24:51.779169Z",
     "start_time": "2025-03-11T21:24:51.364578Z"
    }
   },
   "cell_type": "code",
   "source": "sns.histplot(data[\"Selling Price\"], bins=30, kde=True).set_title(\"Histogram Showing the Distribution of Selling Price, Original Price, and Rating\") # s",
   "id": "4e799d30545342b5",
   "outputs": [
    {
     "data": {
      "text/plain": [
       "Text(0.5, 1.0, 'Histogram Showing the Distribution of Selling Price, Original Price, and Rating')"
      ]
     },
     "execution_count": 70,
     "metadata": {},
     "output_type": "execute_result"
    },
    {
     "data": {
      "text/plain": [
       "<Figure size 640x480 with 1 Axes>"
      ],
      "image/png": "[encoded data removed]"
     },
     "metadata": {},
     "output_type": "display_data"
    }
   ],
   "execution_count": 70
  },
  {
   "metadata": {
    "ExecuteTime": {
     "end_time": "2025-03-11T21:00:47.504787Z",
     "start_time": "2025-03-11T21:00:47.363970Z"
    }
   },
   "cell_type": "code",
   "source": "sns.boxplot(x=data[\"Selling Price\"]).set_title(\"Boxplot of Selling Price Before Outlier Handling\")",
   "id": "df66a2d281005d97",
   "outputs": [
    {
     "data": {
      "text/plain": [
       "Text(0.5, 1.0, 'Boxplot of Selling Price Before Outlier Handling')"
      ]
     },
     "execution_count": 52,
     "metadata": {},
     "output_type": "execute_result"
    },
    {
     "data": {
      "text/plain": [
       "<Figure size 640x480 with 1 Axes>"
      ],
      "image/png": "[encoded data removed]"
     },
     "metadata": {},
     "output_type": "display_data"
    }
   ],
   "execution_count": 52
  },
  {
   "metadata": {
    "ExecuteTime": {
     "end_time": "2025-03-11T21:01:09.156593Z",
     "start_time": "2025-03-11T21:01:09.035929Z"
    }
   },
   "cell_type": "code",
   "source": "sns.boxplot(x=data_no_outliers[\"Selling Price\"]).set_title(\"Boxplot of Selling Price After Outlier Handling\")",
   "id": "8cd32240cd405dbd",
   "outputs": [
    {
     "data": {
      "text/plain": [
       "Text(0.5, 1.0, 'Boxplot of Selling Price After Outlier Handling')"
      ]
     },
     "execution_count": 53,
     "metadata": {},
     "output_type": "execute_result"
    },
    {
     "data": {
      "text/plain": [
       "<Figure size 640x480 with 1 Axes>"
      ],
      "image/png": "[encoded data removed]"
     },
     "metadata": {},
     "output_type": "display_data"
    }
   ],
   "execution_count": 53
  },
  {
   "metadata": {
    "ExecuteTime": {
     "end_time": "2025-03-11T21:22:28.129824Z",
     "start_time": "2025-03-11T21:22:27.918001Z"
    }
   },
   "cell_type": "code",
   "source": [
    "(data.groupby(\"Brand\")[\"Selling Price\"].mean().sort_values().plot(kind=\"bar\")\n",
    ".set_title(\"Bar Chart Comparing the Average Price of Different Brands\"))"
   ],
   "id": "a7773aadb71c47d9",
   "outputs": [
    {
     "data": {
      "text/plain": [
       "Text(0.5, 1.0, 'Bar Chart Comparing the Average Price of Different Brands')"
      ]
     },
     "execution_count": 65,
     "metadata": {},
     "output_type": "execute_result"
    },
    {
     "data": {
      "text/plain": [
       "<Figure size 640x480 with 1 Axes>"
      ],
      "image/png": "[encoded data removed]"
     },
     "metadata": {},
     "output_type": "display_data"
    }
   ],
   "execution_count": 65
  },
  {
   "metadata": {
    "ExecuteTime": {
     "end_time": "2025-03-11T21:34:49.467624Z",
     "start_time": "2025-03-11T21:34:49.192340Z"
    }
   },
   "cell_type": "code",
   "source": [
    "(data.groupby(\"Brand\")[\"Profit\"].sum().sort_values(ascending=False).plot(kind=\"bar\")\n",
    " .set_title(\"Bar Chart Comparing the Total Profit for Different Brands\"))"
   ],
   "id": "18ecec055d997db0",
   "outputs": [
    {
     "data": {
      "text/plain": [
       "Text(0.5, 1.0, 'Bar Chart Comparing the Total Profit for Different Brands')"
      ]
     },
     "execution_count": 79,
     "metadata": {},
     "output_type": "execute_result"
    },
    {
     "data": {
      "text/plain": [
       "<Figure size 640x480 with 1 Axes>"
      ],
      "image/png": "[encoded data removed]"
     },
     "metadata": {},
     "output_type": "display_data"
    }
   ],
   "execution_count": 79
  }
 ],
 "metadata": {
  "kernelspec": {
   "name": "python3",
   "language": "python",
   "display_name": "Python 3 (ipykernel)"
  }
 },
 "nbformat": 5,
 "nbformat_minor": 9
}
