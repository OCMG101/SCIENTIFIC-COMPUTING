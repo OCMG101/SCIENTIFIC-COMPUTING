{
 "cells": [
  {
   "cell_type": "code",
   "execution_count": null,
   "id": "initial_id",
   "metadata": {
    "collapsed": true
   },
   "outputs": [],
   "source": [
    ""
   ]
  },
  {
   "metadata": {},
   "cell_type": "markdown",
   "source": [
    "Introduction to Symbolic Computing \n",
    "\n",
    "- Symbolic computation is a powerful tool for mathematical analysis and optimization.\n",
    "- It allows you to work with symbolic expressions and variables, rather than numerical values.\n",
    "- Symbolic expressions can be manipulated and simplified using various mathematical operations.\n",
    "- Symbolic computation is useful for symbolic integration, symbolic differentiation, and symbolic optimization.\n",
    "- Symbolic computation is often used in scientific computing and engineering applications.\n",
    "- Symbolic computation is a valuable tool for mathematical analysis and optimization in scientific computing and engineering applications.\n",
    "What is it?\n",
    "A type of mathematical computation where expressions are manipulated symbolically rather than numerically.\n",
    "\n",
    "Expression $x^2 + 3x - 5 $\n",
    "\n",
    "\n",
    "we store this as x we have it as  $x^2 + 3x - 5 $\n",
    "\n",
    "\n",
    "in a numerical manner - x= 2\n",
    "\n",
    "\n",
    "2^2 + 3*2 - 5 = 5 \n",
    "\n",
    "If numericaly evaluated then => $x^2 + 3x - 5 $\n",
    "\n",
    "5 \n",
    "\n",
    "Why use it?\n",
    "\n",
    "- Exact Computation - algebraic expression - not numerical computation\n",
    "- Manipulation of equations - allows to solve differential equations and integration symbolically\n",
    "- Scientific research - used physics, engineering, biology, chemistry, etc.\n",
    "\n",
    "\n",
    "\n",
    " Tools used \n",
    " \n",
    "- SymPy - Python library for symbolic mathematics\n",
    "- SageMath - Python library for symbolic mathematics\n",
    "- SymEngine - Python library for symbolic mathematics\n",
    "- SymPy - Python library for symbolic mathematics\n",
    "- Maple - Mathematical software\n",
    "- mathematica - Mathematical software\n",
    "Numerical computing - Numpy, Scipy, Matlab etc. - faster, efficient for large scale computations\n",
    "\n",
    "\n",
    "Cons - Symbolic computation is more complex and requires more memory and processing power to perform complex operations. - symbolic computation is less efficient than numerical computation for simple operations.\n",
    "\n",
    "Numerical computation - rounding off errors \n",
    "\n",
    "$d/dx(x^2 + 3x - 5)$\n",
    "\n",
    "\n",
    "\n",
    "\n",
    "- $2x + 3$\n",
    "\n",
    "\n"
   ],
   "id": "5c29968d6f9a685c"
  },
  {
   "metadata": {
    "ExecuteTime": {
     "end_time": "2025-02-28T10:18:23.070499Z",
     "start_time": "2025-02-28T10:18:23.068949Z"
    }
   },
   "cell_type": "code",
   "source": "import numpy as np",
   "id": "8fb42306fbc57fae",
   "outputs": [],
   "execution_count": 1
  },
  {
   "metadata": {
    "ExecuteTime": {
     "end_time": "2025-02-28T10:18:48.022621Z",
     "start_time": "2025-02-28T10:18:48.016405Z"
    }
   },
   "cell_type": "code",
   "source": "np.sin(0.988)",
   "id": "4f875c4032d6057",
   "outputs": [
    {
     "data": {
      "text/plain": [
       "np.float64(0.8349269275595438)"
      ]
     },
     "execution_count": 3,
     "metadata": {},
     "output_type": "execute_result"
    }
   ],
   "execution_count": 3
  },
  {
   "metadata": {},
   "cell_type": "code",
   "outputs": [],
   "execution_count": null,
   "source": "",
   "id": "4b6549c340cd8fbc"
  },
  {
   "metadata": {},
   "cell_type": "markdown",
   "source": [
    "Symbolic Algebra \n",
    "\n",
    "\n",
    "expanding, factoring and simplifying expressions\n",
    "\n",
    "\n",
    "$(x+y)^2 = x^2 + 2xy + y^2$\n",
    "\n",
    "\n",
    "- $ \\frac{d}{dx}(x^2 + 3x - 5)$"
   ],
   "id": "dc649b335ebe7cad"
  },
  {
   "metadata": {
    "ExecuteTime": {
     "end_time": "2025-02-28T10:35:43.554740Z",
     "start_time": "2025-02-28T10:35:43.548138Z"
    }
   },
   "cell_type": "code",
   "source": "from sympy import symbols, expand, factor, simplify, diff, integrate, solve,Matrix\n",
   "id": "a96dc30bd5580579",
   "outputs": [],
   "execution_count": 7
  },
  {
   "metadata": {
    "ExecuteTime": {
     "end_time": "2025-02-28T10:37:06.912737Z",
     "start_time": "2025-02-28T10:37:06.867901Z"
    }
   },
   "cell_type": "code",
   "source": "x,y = symbols('x y')",
   "id": "eb8a585a969401e8",
   "outputs": [],
   "execution_count": 8
  },
  {
   "metadata": {
    "ExecuteTime": {
     "end_time": "2025-02-28T10:37:25.215806Z",
     "start_time": "2025-02-28T10:37:25.198114Z"
    }
   },
   "cell_type": "code",
   "source": "type(x)",
   "id": "a7b71e35c05fe0a6",
   "outputs": [
    {
     "data": {
      "text/plain": [
       "sympy.core.symbol.Symbol"
      ]
     },
     "execution_count": 10,
     "metadata": {},
     "output_type": "execute_result"
    }
   ],
   "execution_count": 10
  },
  {
   "metadata": {
    "ExecuteTime": {
     "end_time": "2025-02-28T10:37:44.950344Z",
     "start_time": "2025-02-28T10:37:44.941415Z"
    }
   },
   "cell_type": "code",
   "source": "# expanding an algebraic expression",
   "id": "4dcbf00357fde2a4",
   "outputs": [],
   "execution_count": 11
  },
  {
   "metadata": {
    "ExecuteTime": {
     "end_time": "2025-02-28T10:38:30.106799Z",
     "start_time": "2025-02-28T10:38:30.101404Z"
    }
   },
   "cell_type": "code",
   "source": "expre=(x + y )**2",
   "id": "a28c8756984376f4",
   "outputs": [],
   "execution_count": 13
  },
  {
   "metadata": {},
   "cell_type": "markdown",
   "source": "expre\n",
   "id": "c46decac8efa00ac"
  },
  {
   "metadata": {},
   "cell_type": "markdown",
   "source": "expand_expre=expand(expre) ",
   "id": "b307bf976eeecafa"
  },
  {
   "metadata": {
    "ExecuteTime": {
     "end_time": "2025-02-28T10:39:38.979741Z",
     "start_time": "2025-02-28T10:39:38.972719Z"
    }
   },
   "cell_type": "code",
   "source": "expand_expre",
   "id": "60bee0c6f9660d9a",
   "outputs": [
    {
     "data": {
      "text/plain": [
       "x**2 + 2*x*y + y**2"
      ],
      "text/latex": "$\\displaystyle x^{2} + 2 x y + y^{2}$"
     },
     "execution_count": 17,
     "metadata": {},
     "output_type": "execute_result"
    }
   ],
   "execution_count": 17
  },
  {
   "metadata": {},
   "cell_type": "markdown",
   "source": "x $d/dx(3x^2 + 2xy + y^2)$ - $6x + 2y$",
   "id": "b1d1db59014cb01"
  },
  {
   "metadata": {
    "ExecuteTime": {
     "end_time": "2025-02-28T10:39:34.831480Z",
     "start_time": "2025-02-28T10:39:34.823196Z"
    }
   },
   "cell_type": "code",
   "source": "expand_expre=expand(expre)",
   "id": "35428d1d373cab31",
   "outputs": [],
   "execution_count": 16
  },
  {
   "metadata": {
    "ExecuteTime": {
     "end_time": "2025-02-28T10:40:48.150171Z",
     "start_time": "2025-02-28T10:40:48.120073Z"
    }
   },
   "cell_type": "code",
   "source": "print(\"expanded expression\",expand_expre)",
   "id": "6db917b804e8fd9d",
   "outputs": [
    {
     "name": "stdout",
     "output_type": "stream",
     "text": [
      "expanded expression x**2 + 2*x*y + y**2\n"
     ]
    }
   ],
   "execution_count": 18
  },
  {
   "metadata": {},
   "cell_type": "code",
   "outputs": [],
   "execution_count": null,
   "source": "# factoring an algebraic expression",
   "id": "ca3a635abedf147"
  },
  {
   "metadata": {
    "ExecuteTime": {
     "end_time": "2025-02-28T10:41:47.881933Z",
     "start_time": "2025-02-28T10:41:47.862876Z"
    }
   },
   "cell_type": "code",
   "source": "factored_expre=factor(x**2 - 4)",
   "id": "25582ea6ba5cada6",
   "outputs": [],
   "execution_count": 19
  },
  {
   "metadata": {
    "ExecuteTime": {
     "end_time": "2025-02-28T10:41:51.403341Z",
     "start_time": "2025-02-28T10:41:51.377546Z"
    }
   },
   "cell_type": "code",
   "source": "factored_expre",
   "id": "28b0dc57acacc06",
   "outputs": [
    {
     "data": {
      "text/plain": [
       "(x - 2)*(x + 2)"
      ],
      "text/latex": "$\\displaystyle \\left(x - 2\\right) \\left(x + 2\\right)$"
     },
     "execution_count": 20,
     "metadata": {},
     "output_type": "execute_result"
    }
   ],
   "execution_count": 20
  },
  {
   "metadata": {},
   "cell_type": "markdown",
   "source": "diff_expre=diff(x**2 + 3x - 5)",
   "id": "878e16147e6c3c87"
  },
  {
   "metadata": {
    "ExecuteTime": {
     "end_time": "2025-02-28T10:42:44.563339Z",
     "start_time": "2025-02-28T10:42:44.558280Z"
    }
   },
   "cell_type": "code",
   "source": "",
   "id": "aee489998e4c54fd",
   "outputs": [],
   "execution_count": 22
  },
  {
   "metadata": {
    "ExecuteTime": {
     "end_time": "2025-02-28T10:43:34.063990Z",
     "start_time": "2025-02-28T10:43:34.000613Z"
    }
   },
   "cell_type": "code",
   "source": "diff_expre=diff(x**2 + 3*x - 5, x)\n",
   "id": "3b0b87837c44ee87",
   "outputs": [],
   "execution_count": 24
  },
  {
   "metadata": {
    "ExecuteTime": {
     "end_time": "2025-02-28T10:43:42.136870Z",
     "start_time": "2025-02-28T10:43:42.127200Z"
    }
   },
   "cell_type": "code",
   "source": "diff_expre",
   "id": "7e9c7a206468771",
   "outputs": [
    {
     "data": {
      "text/plain": [
       "2*x + 3"
      ],
      "text/latex": "$\\displaystyle 2 x + 3$"
     },
     "execution_count": 25,
     "metadata": {},
     "output_type": "execute_result"
    }
   ],
   "execution_count": 25
  },
  {
   "metadata": {
    "ExecuteTime": {
     "end_time": "2025-02-28T10:44:08.797718Z",
     "start_time": "2025-02-28T10:44:08.732490Z"
    }
   },
   "cell_type": "code",
   "source": "integrate_expre=integrate(x**2 + 3*x - 5, x)",
   "id": "1d3c7ca9b6aeda8b",
   "outputs": [],
   "execution_count": 26
  },
  {
   "metadata": {
    "ExecuteTime": {
     "end_time": "2025-02-28T10:44:10.175402Z",
     "start_time": "2025-02-28T10:44:10.169960Z"
    }
   },
   "cell_type": "code",
   "source": "integrate_expre",
   "id": "643a5a64ea7510a7",
   "outputs": [
    {
     "data": {
      "text/plain": [
       "x**3/3 + 3*x**2/2 - 5*x"
      ],
      "text/latex": "$\\displaystyle \\frac{x^{3}}{3} + \\frac{3 x^{2}}{2} - 5 x$"
     },
     "execution_count": 27,
     "metadata": {},
     "output_type": "execute_result"
    }
   ],
   "execution_count": 27
  },
  {
   "metadata": {
    "ExecuteTime": {
     "end_time": "2025-02-28T10:47:24.153202Z",
     "start_time": "2025-02-28T10:47:23.964222Z"
    }
   },
   "cell_type": "code",
   "source": "solve_expre=solve(x**2 + 3*x - 5, x)",
   "id": "9b5803fcee7da743",
   "outputs": [],
   "execution_count": 34
  },
  {
   "metadata": {
    "ExecuteTime": {
     "end_time": "2025-02-28T10:47:35.215894Z",
     "start_time": "2025-02-28T10:47:35.203559Z"
    }
   },
   "cell_type": "code",
   "source": "solve_expre",
   "id": "ff3e0aee8402a57a",
   "outputs": [
    {
     "data": {
      "text/plain": [
       "[-3/2 + sqrt(29)/2, -sqrt(29)/2 - 3/2]"
      ]
     },
     "execution_count": 35,
     "metadata": {},
     "output_type": "execute_result"
    }
   ],
   "execution_count": 35
  },
  {
   "metadata": {
    "ExecuteTime": {
     "end_time": "2025-02-28T10:44:57.681481Z",
     "start_time": "2025-02-28T10:44:57.639863Z"
    }
   },
   "cell_type": "code",
   "source": "solve(x**2 - 4, x)",
   "id": "44aef162922d7a52",
   "outputs": [
    {
     "data": {
      "text/plain": [
       "[-2, 2]"
      ]
     },
     "execution_count": 28,
     "metadata": {},
     "output_type": "execute_result"
    }
   ],
   "execution_count": 28
  },
  {
   "metadata": {
    "ExecuteTime": {
     "end_time": "2025-02-28T10:45:40.588343Z",
     "start_time": "2025-02-28T10:45:40.579034Z"
    }
   },
   "cell_type": "code",
   "source": "A= Matrix([[1,2],[3,4]])",
   "id": "f83faaadb4aa044c",
   "outputs": [],
   "execution_count": 30
  },
  {
   "metadata": {
    "ExecuteTime": {
     "end_time": "2025-02-28T10:45:41.147662Z",
     "start_time": "2025-02-28T10:45:41.142381Z"
    }
   },
   "cell_type": "code",
   "source": "A",
   "id": "c961737e387a758f",
   "outputs": [
    {
     "data": {
      "text/plain": [
       "Matrix([\n",
       "[1, 2],\n",
       "[3, 4]])"
      ],
      "text/latex": "$\\displaystyle \\left[\\begin{matrix}1 & 2\\\\3 & 4\\end{matrix}\\right]$"
     },
     "execution_count": 31,
     "metadata": {},
     "output_type": "execute_result"
    }
   ],
   "execution_count": 31
  },
  {
   "metadata": {
    "ExecuteTime": {
     "end_time": "2025-02-28T10:46:08.900121Z",
     "start_time": "2025-02-28T10:46:08.893647Z"
    }
   },
   "cell_type": "code",
   "source": "A.det()",
   "id": "136d744ce2fc7b13",
   "outputs": [
    {
     "data": {
      "text/plain": [
       "-2"
      ],
      "text/latex": "$\\displaystyle -2$"
     },
     "execution_count": 33,
     "metadata": {},
     "output_type": "execute_result"
    }
   ],
   "execution_count": 33
  },
  {
   "metadata": {},
   "cell_type": "code",
   "outputs": [],
   "execution_count": null,
   "source": "",
   "id": "5b1bf75e6a8b655c"
  }
 ],
 "metadata": {
  "kernelspec": {
   "display_name": "Python 3",
   "language": "python",
   "name": "python3"
  },
  "language_info": {
   "codemirror_mode": {
    "name": "ipython",
    "version": 2
   },
   "file_extension": ".py",
   "mimetype": "text/x-python",
   "name": "python",
   "nbconvert_exporter": "python",
   "pygments_lexer": "ipython2",
   "version": "2.7.6"
  }
 },
 "nbformat": 4,
 "nbformat_minor": 5
}
