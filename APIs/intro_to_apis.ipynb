{
 "cells": [
  {
   "metadata": {
    "ExecuteTime": {
     "end_time": "2025-03-26T15:26:44.971716Z",
     "start_time": "2025-03-26T15:26:42.064124Z"
    }
   },
   "cell_type": "code",
   "source": [
    "import requests\n",
    "import json\n",
    "\n",
    "# Function to get live stock data for a symbol\n",
    "def get_stock_data():\n",
    "    url = \"https://www.alphavantage.co/query?function=TIME_SERIES_INTRADAY&symbol=IBM&interval=5min&outputsize=full&apikey=demo\"\n",
    "    response = requests.get(url)\n",
    "\n",
    "    # Check if the response is successful\n",
    "    if response.status_code == 200:\n",
    "        data = response.json()\n",
    "        last_refreshed = data[\"Meta Data\"][\"3. Last Refreshed\"]\n",
    "        price = data[\"Time Series (5min)\"][last_refreshed][\"1. open\"]\n",
    "        return price\n",
    "    else:\n",
    "        return None\n",
    "\n",
    "stock_prices = {}\n",
    "price = get_stock_data()\n",
    "symbol = \"IBM\"\n",
    "if price is not None:\n",
    "    stock_prices[symbol] = price\n",
    "\n",
    "f\"{symbol}: {price}\"\n"
   ],
   "id": "2ce8afe83ccad36a",
   "outputs": [
    {
     "data": {
      "text/plain": [
       "'IBM: 249.5600'"
      ]
     },
     "execution_count": 1,
     "metadata": {},
     "output_type": "execute_result"
    }
   ],
   "execution_count": 1
  },
  {
   "metadata": {},
   "cell_type": "markdown",
   "source": "",
   "id": "1a24f050cca9c198"
  },
  {
   "metadata": {
    "ExecuteTime": {
     "end_time": "2025-03-26T15:27:51.853033Z",
     "start_time": "2025-03-26T15:27:51.333280Z"
    }
   },
   "cell_type": "code",
   "source": [
    "import requests\n",
    "\n",
    "# Replace 'API_KEY' with your actual API key from NewsAPI\n",
    "API_KEY = '3805f6bbabcb42b3a0c08a489baf603d'\n",
    "url = f\"https://newsapi.org/v2/top-headlines?country=us&category=business&apiKey={API_KEY}\"\n",
    "response = requests.get(url)\n",
    "print(response.status_code)\n"
   ],
   "id": "c044e39730443d61",
   "outputs": [
    {
     "name": "stdout",
     "output_type": "stream",
     "text": [
      "200\n"
     ]
    }
   ],
   "execution_count": 2
  },
  {
   "metadata": {
    "ExecuteTime": {
     "end_time": "2025-03-26T15:28:24.869219Z",
     "start_time": "2025-03-26T15:28:23.475630Z"
    }
   },
   "cell_type": "code",
   "source": [
    "import json\n",
    "import requests\n",
    "\n",
    "def fetch_and_print_articles(api_url):\n",
    "    response = requests.get(api_url)\n",
    "\n",
    "    if response.status_code == 200:\n",
    "        articles = response.json().get('articles', [])\n",
    "\n",
    "        for index, article in enumerate(articles[:3], start=1):\n",
    "            print(f\"Article {index}:\\n{json.dumps(article, sort_keys=True, indent=4)}\\n\")\n",
    "    else:\n",
    "        print(f\"Error: {response.status_code}\")\n",
    "\n",
    "API_KEY = '3805f6bbabcb42b3a0c08a489baf603d'\n",
    "api_endpoint = f\"https://newsapi.org/v2/top-headlines?country=us&category=business&apiKey={API_KEY}\"\n",
    "\n",
    "fetch_and_print_articles(api_endpoint)\n",
    "\n",
    "def jprint(obj):\n",
    "    json.dumps(obj, sort_keys=True, indent=4)\n",
    "\n",
    "# Example usage:\n",
    "# jprint(response.json())\n"
   ],
   "id": "57426733c42a56d6",
   "outputs": [
    {
     "name": "stdout",
     "output_type": "stream",
     "text": [
      "Article 1:\n",
      "{\n",
      "    \"author\": \"The Wall Street Journal\",\n",
      "    \"content\": null,\n",
      "    \"description\": null,\n",
      "    \"publishedAt\": \"2025-03-25T15:13:00Z\",\n",
      "    \"source\": {\n",
      "        \"id\": \"the-wall-street-journal\",\n",
      "        \"name\": \"The Wall Street Journal\"\n",
      "    },\n",
      "    \"title\": \"23andMe Site Went Down as Customers Struggled to Delete Data - The Wall Street Journal\",\n",
      "    \"url\": \"https://www.wsj.com/business/23andme-delete-data-bankruptcy-5778341f\",\n",
      "    \"urlToImage\": null\n",
      "}\n",
      "\n",
      "Article 2:\n",
      "{\n",
      "    \"author\": \"Pia Singh, Hakyung Kim\",\n",
      "    \"content\": \"U.S. stocks edged higher Tuesday as investors tried to build on the previous session's gains, which were largely sparked by hopes of U.S. tariffs being narrower in scope.\\u00a0\\r\\nThe Dow Jones Industrial A\\u2026 [+1830 chars]\",\n",
      "    \"description\": \"U.S. stocks hovered near the flatline on Tuesday. The previous session saw strong gains fueled by tariff-related hopes.\",\n",
      "    \"publishedAt\": \"2025-03-25T14:40:00Z\",\n",
      "    \"source\": {\n",
      "        \"id\": null,\n",
      "        \"name\": \"CNBC\"\n",
      "    },\n",
      "    \"title\": \"Stocks waver as Wall Street digests Monday's strong rally: Live updates - CNBC\",\n",
      "    \"url\": \"https://www.cnbc.com/2025/03/24/stock-market-today-live-updates.html\",\n",
      "    \"urlToImage\": \"https://image.cnbcfm.com/api/v1/image/108120441-17428386682025-03-24t174608z_519893980_rc2pjdazp9t4_rtrmadp_0_usa-stocks-open.jpeg?v=1742838725&w=1920&h=1080\"\n",
      "}\n",
      "\n",
      "Article 3:\n",
      "{\n",
      "    \"author\": \"Sarah Fortinsky\",\n",
      "    \"content\": \"Skip to content\\r\\nThe FBI confirmed Monday it has established a task force to investigate the wave of vandalism and arson incidents targeting Tesla in recent weeks.\\u00a0\\r\\n\\u201cDirector [Kash] Patel has been u\\u2026 [+2107 chars]\",\n",
      "    \"description\": \"The FBI confirmed Monday it has established a task force to investigate the wave of vandalism and arson incidents targeting Tesla in recent weeks.\\u00a0 \\u201cDirector [Kash] Patel has been unequivocally clear: The FBI will be relentless in its mission to protect the A\\u2026\",\n",
      "    \"publishedAt\": \"2025-03-25T14:21:54Z\",\n",
      "    \"source\": {\n",
      "        \"id\": \"the-hill\",\n",
      "        \"name\": \"The Hill\"\n",
      "    },\n",
      "    \"title\": \"FBI launches Tesla vandalism task force - The Hill\",\n",
      "    \"url\": \"https://thehill.com/regulation/national-security/5212446-fbi-task-force-tesla-vandalism/\",\n",
      "    \"urlToImage\": \"https://thehill.com/wp-content/uploads/sites/2/2025/01/AP25016848585188-e1737124290223.jpg?w=1280\"\n",
      "}\n",
      "\n"
     ]
    }
   ],
   "execution_count": 3
  }
 ],
 "metadata": {
  "kernelspec": {
   "name": "python3",
   "language": "python",
   "display_name": "Python 3 (ipykernel)"
  }
 },
 "nbformat": 5,
 "nbformat_minor": 9
}
